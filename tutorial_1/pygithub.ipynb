{
  "nbformat": 4,
  "nbformat_minor": 0,
  "metadata": {
    "kernelspec": {
      "display_name": "Python 3",
      "language": "python",
      "name": "python3"
    },
    "language_info": {
      "codemirror_mode": {
        "name": "ipython",
        "version": 3
      },
      "file_extension": ".py",
      "mimetype": "text/x-python",
      "name": "python",
      "nbconvert_exporter": "python",
      "pygments_lexer": "ipython3",
      "version": "3.6.4"
    },
    "colab": {
      "name": "tutorial1_pygithub.ipynb",
      "provenance": [],
      "collapsed_sections": [],
      "include_colab_link": true
    }
  },
  "cells": [
    {
      "cell_type": "markdown",
      "metadata": {
        "id": "view-in-github",
        "colab_type": "text"
      },
      "source": [
        "<a href=\"https://colab.research.google.com/github/grosa1/hands-on-ml-tutorials/blob/master/tutorial_1/pygithub.ipynb\" target=\"_parent\"><img src=\"https://colab.research.google.com/assets/colab-badge.svg\" alt=\"Open In Colab\"/></a>"
      ]
    },
    {
      "cell_type": "markdown",
      "metadata": {
        "id": "rlKxS3GTTiKX",
        "colab_type": "text"
      },
      "source": [
        "# PyGithub examples"
      ]
    },
    {
      "cell_type": "markdown",
      "metadata": {
        "id": "_ntwd1DjTiKY",
        "colab_type": "text"
      },
      "source": [
        "PyGitHub is a Python library to access the GitHub API. This library enables you to manage GitHub resources such as repositories, user profiles, and organizations in your Python applications."
      ]
    },
    {
      "cell_type": "markdown",
      "metadata": {
        "id": "aaVVUMgMTiKa",
        "colab_type": "text"
      },
      "source": [
        "## Install and import"
      ]
    },
    {
      "cell_type": "markdown",
      "metadata": {
        "id": "zBttO8QcyFja",
        "colab_type": "text"
      },
      "source": [
        "We also install pandas along to PyGithub to easily work on the data that will be extracted:"
      ]
    },
    {
      "cell_type": "code",
      "metadata": {
        "id": "n4LQ5yKFTiKc",
        "colab_type": "code",
        "outputId": "41dbbff6-f70d-468d-c8e1-1cdc9372e109",
        "colab": {
          "base_uri": "https://localhost:8080/",
          "height": 255
        }
      },
      "source": [
        "!pip install pandas\n",
        "!pip install PyGithub"
      ],
      "execution_count": 1,
      "outputs": [
        {
          "output_type": "stream",
          "text": [
            "Requirement already satisfied: pandas in /usr/local/lib/python3.6/dist-packages (1.0.3)\n",
            "Requirement already satisfied: pytz>=2017.2 in /usr/local/lib/python3.6/dist-packages (from pandas) (2018.9)\n",
            "Requirement already satisfied: numpy>=1.13.3 in /usr/local/lib/python3.6/dist-packages (from pandas) (1.18.3)\n",
            "Requirement already satisfied: python-dateutil>=2.6.1 in /usr/local/lib/python3.6/dist-packages (from pandas) (2.8.1)\n",
            "Requirement already satisfied: six>=1.5 in /usr/local/lib/python3.6/dist-packages (from python-dateutil>=2.6.1->pandas) (1.12.0)\n",
            "Requirement already satisfied: PyGithub in /usr/local/lib/python3.6/dist-packages (1.50)\n",
            "Requirement already satisfied: deprecated in /usr/local/lib/python3.6/dist-packages (from PyGithub) (1.2.9)\n",
            "Requirement already satisfied: pyjwt in /usr/local/lib/python3.6/dist-packages (from PyGithub) (1.7.1)\n",
            "Requirement already satisfied: requests>=2.14.0 in /usr/local/lib/python3.6/dist-packages (from PyGithub) (2.21.0)\n",
            "Requirement already satisfied: wrapt<2,>=1.10 in /usr/local/lib/python3.6/dist-packages (from deprecated->PyGithub) (1.12.1)\n",
            "Requirement already satisfied: idna<2.9,>=2.5 in /usr/local/lib/python3.6/dist-packages (from requests>=2.14.0->PyGithub) (2.8)\n",
            "Requirement already satisfied: urllib3<1.25,>=1.21.1 in /usr/local/lib/python3.6/dist-packages (from requests>=2.14.0->PyGithub) (1.24.3)\n",
            "Requirement already satisfied: certifi>=2017.4.17 in /usr/local/lib/python3.6/dist-packages (from requests>=2.14.0->PyGithub) (2020.4.5.1)\n",
            "Requirement already satisfied: chardet<3.1.0,>=3.0.2 in /usr/local/lib/python3.6/dist-packages (from requests>=2.14.0->PyGithub) (3.0.4)\n"
          ],
          "name": "stdout"
        }
      ]
    },
    {
      "cell_type": "code",
      "metadata": {
        "id": "ICLALtc-TiKe",
        "colab_type": "code",
        "colab": {}
      },
      "source": [
        "import pandas as pd\n",
        "from github import Github"
      ],
      "execution_count": 0,
      "outputs": []
    },
    {
      "cell_type": "markdown",
      "metadata": {
        "id": "kr0OI2cOTiKh",
        "colab_type": "text"
      },
      "source": [
        "### First steps\n",
        "\n"
      ]
    },
    {
      "cell_type": "markdown",
      "metadata": {
        "id": "CcfeCyYny2UY",
        "colab_type": "text"
      },
      "source": [
        "First create a Github instance using API key or user credentials:"
      ]
    },
    {
      "cell_type": "code",
      "metadata": {
        "id": "Bwj88ISTXWhQ",
        "colab_type": "code",
        "colab": {}
      },
      "source": [
        "# using username and password\n",
        "g = Github(\"user\", \"password\")"
      ],
      "execution_count": 0,
      "outputs": []
    },
    {
      "cell_type": "code",
      "metadata": {
        "id": "_muwL5llywCh",
        "colab_type": "code",
        "colab": {}
      },
      "source": [
        "# or using an access token\n",
        "g = Github('access_token')"
      ],
      "execution_count": 0,
      "outputs": []
    },
    {
      "cell_type": "markdown",
      "metadata": {
        "id": "yTlNzLP8YyH6",
        "colab_type": "text"
      },
      "source": [
        "To get current API call limit:"
      ]
    },
    {
      "cell_type": "code",
      "metadata": {
        "id": "1SNRnzVVYyT4",
        "colab_type": "code",
        "colab": {
          "base_uri": "https://localhost:8080/",
          "height": 34
        },
        "outputId": "445f5156-62de-4ca0-e207-ba10e3b9d81a"
      },
      "source": [
        "g.get_rate_limit()"
      ],
      "execution_count": 4,
      "outputs": [
        {
          "output_type": "execute_result",
          "data": {
            "text/plain": [
              "RateLimit(core=Rate(reset=2020-04-29 05:45:25, remaining=4994, limit=5000))"
            ]
          },
          "metadata": {
            "tags": []
          },
          "execution_count": 4
        }
      ]
    },
    {
      "cell_type": "markdown",
      "metadata": {
        "id": "LavO79sQ0BOp",
        "colab_type": "text"
      },
      "source": [
        "To show your GitHub repos:"
      ]
    },
    {
      "cell_type": "code",
      "metadata": {
        "id": "D58XKRD7Y052",
        "colab_type": "code",
        "colab": {
          "base_uri": "https://localhost:8080/",
          "height": 1000
        },
        "outputId": "dd8b7240-dcf0-4a5c-e08b-92c9732cd3af"
      },
      "source": [
        "for repo in g.get_user().get_repos():\n",
        "    print(repo.name)"
      ],
      "execution_count": 5,
      "outputs": [
        {
          "output_type": "stream",
          "text": [
            "projectL\n",
            "myunimol-android\n",
            "tesi\n",
            "alexa-unit-test\n",
            "android-bluetooth-testbed\n",
            "androidtemplate\n",
            "android_samples\n",
            "anpr-github-metrics\n",
            "ant-colony-tsp\n",
            "api\n",
            "app-docenti\n",
            "app-docenti-server\n",
            "app-frosinone-scuola-calcio\n",
            "atticus-ecg\n",
            "bankAccountExample\n",
            "chart-example\n",
            "chip2cheek\n",
            "chip2cheek-api\n",
            "chip2cheek-app\n",
            "cordova-plugin-firebase\n",
            "covid19-bot\n",
            "crop-style-ase2018\n",
            "crypto-trading-toolkit-android\n",
            "cuda-first-test\n",
            "cwb_multi_thread\n",
            "diametro-pneumatici\n",
            "docker-ionic\n",
            "ecg-clustering\n",
            "flask\n",
            "gestione-ricevimenti\n",
            "hands-on-ml-tutorials\n",
            "heif\n",
            "Iliad-Unofficial-API\n",
            "ionic_electron\n",
            "keystroke-dynamics\n",
            "keystroke_dynamics_relazione\n",
            "keystroke_login\n",
            "Machine_Learning_Spring_Weka\n",
            "material-design-icons\n",
            "metodi-ottimizzazione\n",
            "microsat\n",
            "microsat-cuda\n",
            "MIPHAS-App\n",
            "miphas-app-sanitario\n",
            "miphas-dss-echo-server\n",
            "mirror-vxheaven.org\n",
            "monero\n",
            "myunimol-android\n",
            "node-blog\n",
            "nodejs-tsw-2017\n",
            "p-median-python\n",
            "pannello-frosinone-scuola-calcio\n",
            "plouse\n",
            "pso_travelling_salesman\n",
            "react-native-android-toolbar-example\n",
            "RepoTEST\n",
            "ricevimenti-unimol-plugin\n",
            "ringsat\n",
            "SmartTabLayout\n",
            "spiroweb-site\n",
            "SpongeAPI\n",
            "Spoon-Knife\n",
            "stackless\n",
            "super-simple-unit-testing\n",
            "Systematic-Literature-Review---AI-in-Penetration-testing-and-vulnerability-assessment\n",
            "tesi-triennale\n",
            "TradingWalletTools\n",
            "tsp-genetic-python\n",
            "tube-lite\n",
            "usdt_analysis\n",
            "voto-laurea\n",
            "vulns-survey-app\n",
            "webview\n",
            "weka-discretize\n",
            "whatsie\n",
            "whatsie-1\n",
            "anpr-github-metrics\n",
            "legal-search-engine-wp\n",
            "pyqtws\n",
            "qtws\n",
            "AMIDAH-DETECTOR-2019\n",
            "Clustering-AF-2019\n",
            "HAR_MiPHAS\n",
            "MiPHAS_BioImpedance\n",
            "myunimol-android\n",
            "chip2cheek\n",
            "chip2cheek\n",
            "api\n",
            "myUnimol-4-iOS\n",
            "notifier\n",
            "webapp\n",
            "website\n",
            "hertzy\n",
            "marmot-db\n",
            "node-heif\n",
            "feed-food\n",
            "pizzapp-android\n",
            "pizzapp-api\n",
            "crop-style\n",
            "teamscale\n",
            "logiCore-intellij\n",
            "modularization\n"
          ],
          "name": "stdout"
        }
      ]
    },
    {
      "cell_type": "markdown",
      "metadata": {
        "id": "iYcMEtrrY1A8",
        "colab_type": "text"
      },
      "source": [
        "### Search repositories by language\n",
        "We store a list of `dict` to create a pandas `DataFrame` later.\n",
        "<br>\n",
        "What we get for each repository is:\n",
        "- **full name**, for example \"elastic/elasticsearch\"\n",
        "- total number of **commits**\n",
        "- total number of **issues** that are currently open\n",
        "- **stars count**, as a very rough measure to estimate how well known a repository is"
      ]
    },
    {
      "cell_type": "code",
      "metadata": {
        "id": "pL0F2EsPZqeg",
        "colab_type": "code",
        "colab": {}
      },
      "source": [
        "rows = list()\n",
        "repos = g.search_repositories(query='language:java')\n",
        "for repo in repos[:50]:\n",
        "  rows.append({\n",
        "      'full_name': repo.full_name, \n",
        "      'commits': int(repo.get_commits().totalCount),\n",
        "      'issues': int(repo.get_issues(state='open').totalCount),\n",
        "      'stars': int(repo.stargazers_count)\n",
        "      })"
      ],
      "execution_count": 0,
      "outputs": []
    },
    {
      "cell_type": "markdown",
      "metadata": {
        "id": "sSLqepUzNmy8",
        "colab_type": "text"
      },
      "source": [
        "Using `sort_values` we sort the `DataFrame` by number of commits"
      ]
    },
    {
      "cell_type": "code",
      "metadata": {
        "id": "6tO220QA3T2X",
        "colab_type": "code",
        "colab": {
          "base_uri": "https://localhost:8080/",
          "height": 204
        },
        "outputId": "0ba0b2ae-2258-48de-dcb7-0c68004a447f"
      },
      "source": [
        "df = pd.DataFrame(rows)\n",
        "df.sort_values(by=[\"commits\"], ascending=False, inplace=True)\n",
        "df.head()"
      ],
      "execution_count": 7,
      "outputs": [
        {
          "output_type": "execute_result",
          "data": {
            "text/html": [
              "<div>\n",
              "<style scoped>\n",
              "    .dataframe tbody tr th:only-of-type {\n",
              "        vertical-align: middle;\n",
              "    }\n",
              "\n",
              "    .dataframe tbody tr th {\n",
              "        vertical-align: top;\n",
              "    }\n",
              "\n",
              "    .dataframe thead th {\n",
              "        text-align: right;\n",
              "    }\n",
              "</style>\n",
              "<table border=\"1\" class=\"dataframe\">\n",
              "  <thead>\n",
              "    <tr style=\"text-align: right;\">\n",
              "      <th></th>\n",
              "      <th>full_name</th>\n",
              "      <th>commits</th>\n",
              "      <th>issues</th>\n",
              "      <th>stars</th>\n",
              "    </tr>\n",
              "  </thead>\n",
              "  <tbody>\n",
              "    <tr>\n",
              "      <th>3</th>\n",
              "      <td>elastic/elasticsearch</td>\n",
              "      <td>52105</td>\n",
              "      <td>2757</td>\n",
              "      <td>48522</td>\n",
              "    </tr>\n",
              "    <tr>\n",
              "      <th>31</th>\n",
              "      <td>jenkinsci/jenkins</td>\n",
              "      <td>29856</td>\n",
              "      <td>59</td>\n",
              "      <td>15364</td>\n",
              "    </tr>\n",
              "    <tr>\n",
              "      <th>4</th>\n",
              "      <td>spring-projects/spring-boot</td>\n",
              "      <td>26324</td>\n",
              "      <td>472</td>\n",
              "      <td>47289</td>\n",
              "    </tr>\n",
              "    <tr>\n",
              "      <th>32</th>\n",
              "      <td>bazelbuild/bazel</td>\n",
              "      <td>25743</td>\n",
              "      <td>2256</td>\n",
              "      <td>14573</td>\n",
              "    </tr>\n",
              "    <tr>\n",
              "      <th>46</th>\n",
              "      <td>apache/flink</td>\n",
              "      <td>21527</td>\n",
              "      <td>520</td>\n",
              "      <td>12752</td>\n",
              "    </tr>\n",
              "  </tbody>\n",
              "</table>\n",
              "</div>"
            ],
            "text/plain": [
              "                      full_name  commits  issues  stars\n",
              "3         elastic/elasticsearch    52105    2757  48522\n",
              "31            jenkinsci/jenkins    29856      59  15364\n",
              "4   spring-projects/spring-boot    26324     472  47289\n",
              "32             bazelbuild/bazel    25743    2256  14573\n",
              "46                 apache/flink    21527     520  12752"
            ]
          },
          "metadata": {
            "tags": []
          },
          "execution_count": 7
        }
      ]
    },
    {
      "cell_type": "markdown",
      "metadata": {
        "id": "4zx_1BCyN1CQ",
        "colab_type": "text"
      },
      "source": [
        "We get the name of the first repository in terms of number of commits"
      ]
    },
    {
      "cell_type": "code",
      "metadata": {
        "id": "muRCVgmR2PIR",
        "colab_type": "code",
        "colab": {
          "base_uri": "https://localhost:8080/",
          "height": 34
        },
        "outputId": "2751f80a-e10e-45a9-a1f4-16ec7268345a"
      },
      "source": [
        "first_repo = df[\"full_name\"].iloc[0]\n",
        "\n",
        "first_repo"
      ],
      "execution_count": 9,
      "outputs": [
        {
          "output_type": "execute_result",
          "data": {
            "text/plain": [
              "'elastic/elasticsearch'"
            ]
          },
          "metadata": {
            "tags": []
          },
          "execution_count": 9
        }
      ]
    },
    {
      "cell_type": "markdown",
      "metadata": {
        "id": "XC0yGtmnN0V2",
        "colab_type": "text"
      },
      "source": [
        "### Working with repos"
      ]
    },
    {
      "cell_type": "code",
      "metadata": {
        "id": "j7p_kx13KtZ0",
        "colab_type": "code",
        "colab": {
          "base_uri": "https://localhost:8080/",
          "height": 1000
        },
        "outputId": "9c7c32b8-e430-4ddf-c284-a8f54ccc02a6"
      },
      "source": [
        "repository = g.get_repo(first_repo)\n",
        "dir(repository)"
      ],
      "execution_count": 10,
      "outputs": [
        {
          "output_type": "execute_result",
          "data": {
            "text/plain": [
              "['CHECK_AFTER_INIT_FLAG',\n",
              " '_CompletableGithubObject__complete',\n",
              " '_CompletableGithubObject__completed',\n",
              " '_GithubObject__makeSimpleAttribute',\n",
              " '_GithubObject__makeSimpleListAttribute',\n",
              " '_GithubObject__makeTransformedAttribute',\n",
              " '_Repository__create_pull',\n",
              " '_Repository__create_pull_1',\n",
              " '_Repository__create_pull_2',\n",
              " '__class__',\n",
              " '__delattr__',\n",
              " '__dict__',\n",
              " '__dir__',\n",
              " '__doc__',\n",
              " '__eq__',\n",
              " '__format__',\n",
              " '__ge__',\n",
              " '__getattribute__',\n",
              " '__gt__',\n",
              " '__hash__',\n",
              " '__init__',\n",
              " '__init_subclass__',\n",
              " '__le__',\n",
              " '__lt__',\n",
              " '__module__',\n",
              " '__ne__',\n",
              " '__new__',\n",
              " '__reduce__',\n",
              " '__reduce_ex__',\n",
              " '__repr__',\n",
              " '__setattr__',\n",
              " '__sizeof__',\n",
              " '__str__',\n",
              " '__subclasshook__',\n",
              " '__weakref__',\n",
              " '_allow_merge_commit',\n",
              " '_allow_rebase_merge',\n",
              " '_allow_squash_merge',\n",
              " '_archive_url',\n",
              " '_archived',\n",
              " '_assignees_url',\n",
              " '_blobs_url',\n",
              " '_branches_url',\n",
              " '_clone_url',\n",
              " '_collaborators_url',\n",
              " '_comments_url',\n",
              " '_commits_url',\n",
              " '_compare_url',\n",
              " '_completeIfNeeded',\n",
              " '_completeIfNotSet',\n",
              " '_contents_url',\n",
              " '_contributors_url',\n",
              " '_created_at',\n",
              " '_default_branch',\n",
              " '_delete_branch_on_merge',\n",
              " '_deployments_url',\n",
              " '_description',\n",
              " '_downloads_url',\n",
              " '_events_url',\n",
              " '_fork',\n",
              " '_forks',\n",
              " '_forks_count',\n",
              " '_forks_url',\n",
              " '_full_name',\n",
              " '_git_commits_url',\n",
              " '_git_refs_url',\n",
              " '_git_tags_url',\n",
              " '_git_url',\n",
              " '_has_downloads',\n",
              " '_has_issues',\n",
              " '_has_pages',\n",
              " '_has_projects',\n",
              " '_has_wiki',\n",
              " '_headers',\n",
              " '_homepage',\n",
              " '_hooks_url',\n",
              " '_html_url',\n",
              " '_hub',\n",
              " '_id',\n",
              " '_identity',\n",
              " '_initAttributes',\n",
              " '_issue_comment_url',\n",
              " '_issue_events_url',\n",
              " '_issues_url',\n",
              " '_keys_url',\n",
              " '_labels_url',\n",
              " '_language',\n",
              " '_languages_url',\n",
              " '_legacy_convert_issue',\n",
              " '_makeBoolAttribute',\n",
              " '_makeClassAttribute',\n",
              " '_makeDatetimeAttribute',\n",
              " '_makeDictAttribute',\n",
              " '_makeDictOfStringsToClassesAttribute',\n",
              " '_makeFloatAttribute',\n",
              " '_makeIntAttribute',\n",
              " '_makeListOfClassesAttribute',\n",
              " '_makeListOfDictsAttribute',\n",
              " '_makeListOfIntsAttribute',\n",
              " '_makeListOfListOfStringsAttribute',\n",
              " '_makeListOfStringsAttribute',\n",
              " '_makeStringAttribute',\n",
              " '_makeTimestampAttribute',\n",
              " '_master_branch',\n",
              " '_merges_url',\n",
              " '_milestones_url',\n",
              " '_mirror_url',\n",
              " '_name',\n",
              " '_network_count',\n",
              " '_notifications_url',\n",
              " '_open_issues',\n",
              " '_open_issues_count',\n",
              " '_organization',\n",
              " '_owner',\n",
              " '_parent',\n",
              " '_parentUrl',\n",
              " '_permissions',\n",
              " '_private',\n",
              " '_pulls_url',\n",
              " '_pushed_at',\n",
              " '_rawData',\n",
              " '_releases_url',\n",
              " '_requester',\n",
              " '_size',\n",
              " '_source',\n",
              " '_ssh_url',\n",
              " '_stargazers_count',\n",
              " '_stargazers_url',\n",
              " '_statuses_url',\n",
              " '_storeAndUseAttributes',\n",
              " '_subscribers_count',\n",
              " '_subscribers_url',\n",
              " '_subscription_url',\n",
              " '_svn_url',\n",
              " '_tags_url',\n",
              " '_teams_url',\n",
              " '_topics',\n",
              " '_trees_url',\n",
              " '_updated_at',\n",
              " '_url',\n",
              " '_useAttributes',\n",
              " '_watchers',\n",
              " '_watchers_count',\n",
              " 'add_to_collaborators',\n",
              " 'allow_merge_commit',\n",
              " 'allow_rebase_merge',\n",
              " 'allow_squash_merge',\n",
              " 'archive_url',\n",
              " 'archived',\n",
              " 'assignees_url',\n",
              " 'blobs_url',\n",
              " 'branches_url',\n",
              " 'clone_url',\n",
              " 'collaborators_url',\n",
              " 'comments_url',\n",
              " 'commits_url',\n",
              " 'compare',\n",
              " 'compare_url',\n",
              " 'contents_url',\n",
              " 'contributors_url',\n",
              " 'create_deployment',\n",
              " 'create_file',\n",
              " 'create_fork',\n",
              " 'create_git_blob',\n",
              " 'create_git_commit',\n",
              " 'create_git_ref',\n",
              " 'create_git_release',\n",
              " 'create_git_tag',\n",
              " 'create_git_tag_and_release',\n",
              " 'create_git_tree',\n",
              " 'create_hook',\n",
              " 'create_issue',\n",
              " 'create_key',\n",
              " 'create_label',\n",
              " 'create_milestone',\n",
              " 'create_project',\n",
              " 'create_pull',\n",
              " 'create_repository_dispatch',\n",
              " 'create_source_import',\n",
              " 'created_at',\n",
              " 'default_branch',\n",
              " 'delete',\n",
              " 'delete_branch_on_merge',\n",
              " 'delete_file',\n",
              " 'deployments_url',\n",
              " 'description',\n",
              " 'disable_automated_security_fixes',\n",
              " 'disable_vulnerability_alert',\n",
              " 'downloads_url',\n",
              " 'edit',\n",
              " 'enable_automated_security_fixes',\n",
              " 'enable_vulnerability_alert',\n",
              " 'etag',\n",
              " 'events_url',\n",
              " 'fork',\n",
              " 'forks',\n",
              " 'forks_count',\n",
              " 'forks_url',\n",
              " 'full_name',\n",
              " 'get__repr__',\n",
              " 'get_archive_link',\n",
              " 'get_assignees',\n",
              " 'get_branch',\n",
              " 'get_branches',\n",
              " 'get_clones_traffic',\n",
              " 'get_collaborator_permission',\n",
              " 'get_collaborators',\n",
              " 'get_comment',\n",
              " 'get_comments',\n",
              " 'get_commit',\n",
              " 'get_commits',\n",
              " 'get_contents',\n",
              " 'get_contributors',\n",
              " 'get_deployment',\n",
              " 'get_deployments',\n",
              " 'get_dir_contents',\n",
              " 'get_download',\n",
              " 'get_downloads',\n",
              " 'get_events',\n",
              " 'get_forks',\n",
              " 'get_git_blob',\n",
              " 'get_git_commit',\n",
              " 'get_git_matching_refs',\n",
              " 'get_git_ref',\n",
              " 'get_git_refs',\n",
              " 'get_git_tag',\n",
              " 'get_git_tree',\n",
              " 'get_hook',\n",
              " 'get_hooks',\n",
              " 'get_issue',\n",
              " 'get_issues',\n",
              " 'get_issues_comments',\n",
              " 'get_issues_event',\n",
              " 'get_issues_events',\n",
              " 'get_key',\n",
              " 'get_keys',\n",
              " 'get_label',\n",
              " 'get_labels',\n",
              " 'get_languages',\n",
              " 'get_latest_release',\n",
              " 'get_license',\n",
              " 'get_milestone',\n",
              " 'get_milestones',\n",
              " 'get_network_events',\n",
              " 'get_notifications',\n",
              " 'get_pending_invitations',\n",
              " 'get_projects',\n",
              " 'get_pull',\n",
              " 'get_pulls',\n",
              " 'get_pulls_comments',\n",
              " 'get_pulls_review_comments',\n",
              " 'get_readme',\n",
              " 'get_release',\n",
              " 'get_release_asset',\n",
              " 'get_releases',\n",
              " 'get_source_import',\n",
              " 'get_stargazers',\n",
              " 'get_stargazers_with_dates',\n",
              " 'get_stats_code_frequency',\n",
              " 'get_stats_commit_activity',\n",
              " 'get_stats_contributors',\n",
              " 'get_stats_participation',\n",
              " 'get_stats_punch_card',\n",
              " 'get_subscribers',\n",
              " 'get_tags',\n",
              " 'get_teams',\n",
              " 'get_top_paths',\n",
              " 'get_top_referrers',\n",
              " 'get_topics',\n",
              " 'get_views_traffic',\n",
              " 'get_vulnerability_alert',\n",
              " 'get_watchers',\n",
              " 'git_commits_url',\n",
              " 'git_refs_url',\n",
              " 'git_tags_url',\n",
              " 'git_url',\n",
              " 'has_downloads',\n",
              " 'has_in_assignees',\n",
              " 'has_in_collaborators',\n",
              " 'has_issues',\n",
              " 'has_pages',\n",
              " 'has_projects',\n",
              " 'has_wiki',\n",
              " 'homepage',\n",
              " 'hooks_url',\n",
              " 'html_url',\n",
              " 'id',\n",
              " 'issue_comment_url',\n",
              " 'issue_events_url',\n",
              " 'issues_url',\n",
              " 'keys_url',\n",
              " 'labels_url',\n",
              " 'language',\n",
              " 'languages_url',\n",
              " 'last_modified',\n",
              " 'legacy_search_issues',\n",
              " 'mark_notifications_as_read',\n",
              " 'master_branch',\n",
              " 'merge',\n",
              " 'merges_url',\n",
              " 'milestones_url',\n",
              " 'mirror_url',\n",
              " 'name',\n",
              " 'network_count',\n",
              " 'notifications_url',\n",
              " 'open_issues',\n",
              " 'open_issues_count',\n",
              " 'organization',\n",
              " 'owner',\n",
              " 'parent',\n",
              " 'permissions',\n",
              " 'private',\n",
              " 'pulls_url',\n",
              " 'pushed_at',\n",
              " 'raw_data',\n",
              " 'raw_headers',\n",
              " 'releases_url',\n",
              " 'remove_from_collaborators',\n",
              " 'remove_invitation',\n",
              " 'replace_topics',\n",
              " 'setCheckAfterInitFlag',\n",
              " 'size',\n",
              " 'source',\n",
              " 'ssh_url',\n",
              " 'stargazers_count',\n",
              " 'stargazers_url',\n",
              " 'statuses_url',\n",
              " 'subscribe_to_hub',\n",
              " 'subscribers_count',\n",
              " 'subscribers_url',\n",
              " 'subscription_url',\n",
              " 'svn_url',\n",
              " 'tags_url',\n",
              " 'teams_url',\n",
              " 'topics',\n",
              " 'trees_url',\n",
              " 'unsubscribe_from_hub',\n",
              " 'update',\n",
              " 'update_file',\n",
              " 'updated_at',\n",
              " 'url',\n",
              " 'watchers',\n",
              " 'watchers_count']"
            ]
          },
          "metadata": {
            "tags": []
          },
          "execution_count": 10
        }
      ]
    },
    {
      "cell_type": "markdown",
      "metadata": {
        "id": "DcYgTblrPIbL",
        "colab_type": "text"
      },
      "source": [
        "To show the entire contents of a repository:"
      ]
    },
    {
      "cell_type": "code",
      "metadata": {
        "id": "_2ZL5XKnFIm5",
        "colab_type": "code",
        "colab": {
          "base_uri": "https://localhost:8080/",
          "height": 595
        },
        "outputId": "19cc7ddb-2656-42b7-b95e-0b9ecbdb9fee"
      },
      "source": [
        "for content_file in repository.get_contents(\"\"):\n",
        "  print(content_file)"
      ],
      "execution_count": 11,
      "outputs": [
        {
          "output_type": "stream",
          "text": [
            "ContentFile(path=\".ci\")\n",
            "ContentFile(path=\".dir-locals.el\")\n",
            "ContentFile(path=\".editorconfig\")\n",
            "ContentFile(path=\".gitattributes\")\n",
            "ContentFile(path=\".github\")\n",
            "ContentFile(path=\".gitignore\")\n",
            "ContentFile(path=\".idea\")\n",
            "ContentFile(path=\"CONTRIBUTING.md\")\n",
            "ContentFile(path=\"LICENSE.txt\")\n",
            "ContentFile(path=\"NOTICE.txt\")\n",
            "ContentFile(path=\"README.asciidoc\")\n",
            "ContentFile(path=\"TESTING.asciidoc\")\n",
            "ContentFile(path=\"Vagrantfile\")\n",
            "ContentFile(path=\"benchmarks\")\n",
            "ContentFile(path=\"build.gradle\")\n",
            "ContentFile(path=\"buildSrc\")\n",
            "ContentFile(path=\"client\")\n",
            "ContentFile(path=\"dev-tools\")\n",
            "ContentFile(path=\"distribution\")\n",
            "ContentFile(path=\"docs\")\n",
            "ContentFile(path=\"gradle.properties\")\n",
            "ContentFile(path=\"gradle\")\n",
            "ContentFile(path=\"gradlew\")\n",
            "ContentFile(path=\"gradlew.bat\")\n",
            "ContentFile(path=\"libs\")\n",
            "ContentFile(path=\"licenses\")\n",
            "ContentFile(path=\"modules\")\n",
            "ContentFile(path=\"plugins\")\n",
            "ContentFile(path=\"qa\")\n",
            "ContentFile(path=\"rest-api-spec\")\n",
            "ContentFile(path=\"server\")\n",
            "ContentFile(path=\"settings.gradle\")\n",
            "ContentFile(path=\"test\")\n",
            "ContentFile(path=\"x-pack\")\n"
          ],
          "name": "stdout"
        }
      ]
    },
    {
      "cell_type": "markdown",
      "metadata": {
        "id": "NqnC3wvKPbTl",
        "colab_type": "text"
      },
      "source": [
        "### Working with commits\n",
        "To get a specific commit by commit id (sha):"
      ]
    },
    {
      "cell_type": "code",
      "metadata": {
        "id": "8s2jc_XQ2aCl",
        "colab_type": "code",
        "colab": {
          "base_uri": "https://localhost:8080/",
          "height": 34
        },
        "outputId": "bd8e89ac-9b0d-4885-8928-d2599aca6e97"
      },
      "source": [
        "repository.get_commits()[0]"
      ],
      "execution_count": 12,
      "outputs": [
        {
          "output_type": "execute_result",
          "data": {
            "text/plain": [
              "Commit(sha=\"c322f3f4d575db1c3eaaa73d1924ffdbfb81c435\")"
            ]
          },
          "metadata": {
            "tags": []
          },
          "execution_count": 12
        }
      ]
    },
    {
      "cell_type": "code",
      "metadata": {
        "id": "MUDqcwQMCBt3",
        "colab_type": "code",
        "colab": {
          "base_uri": "https://localhost:8080/",
          "height": 85
        },
        "outputId": "e3738aa9-010e-4f41-b380-e5b0c2a62dac"
      },
      "source": [
        "commit = repository.get_commit(\"c322f3f4d575db1c3eaaa73d1924ffdbfb81c435\").commit\n",
        "\n",
        "print(commit.message, commit.author.name, commit.author.date, commit.url, sep=\"\\n\")"
      ],
      "execution_count": 13,
      "outputs": [
        {
          "output_type": "stream",
          "text": [
            "json spec - add description for autoscaling (#55748)\n",
            "Jake Landis\n",
            "2020-04-28 22:36:20\n",
            "https://api.github.com/repos/elastic/elasticsearch/git/commits/c322f3f4d575db1c3eaaa73d1924ffdbfb81c435\n"
          ],
          "name": "stdout"
        }
      ]
    },
    {
      "cell_type": "markdown",
      "metadata": {
        "id": "f0oPNXZnTiM1",
        "colab_type": "text"
      },
      "source": [
        "## Resources\n",
        "\n",
        "- PyGithub docs: [link](https://pygithub.readthedocs.io/en/latest/introduction.html)\n",
        "\n",
        "- PyGithub classes: [link](https://pygithub.readthedocs.io/en/latest/github_objects.html)\n",
        "\n",
        "- GitHub APIs: [link](https://developer.github.com/v3/)"
      ]
    }
  ]
}