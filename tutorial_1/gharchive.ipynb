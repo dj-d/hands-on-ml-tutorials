{
  "nbformat": 4,
  "nbformat_minor": 0,
  "metadata": {
    "kernelspec": {
      "display_name": "Python 3",
      "language": "python",
      "name": "python3"
    },
    "language_info": {
      "codemirror_mode": {
        "name": "ipython",
        "version": 3
      },
      "file_extension": ".py",
      "mimetype": "text/x-python",
      "name": "python",
      "nbconvert_exporter": "python",
      "pygments_lexer": "ipython3",
      "version": "3.4.3"
    },
    "colab": {
      "name": "gharchive.ipynb",
      "provenance": [],
      "toc_visible": true,
      "include_colab_link": true
    }
  },
  "cells": [
    {
      "cell_type": "markdown",
      "metadata": {
        "id": "view-in-github",
        "colab_type": "text"
      },
      "source": [
        "<a href=\"https://colab.research.google.com/github/grosa1/hands-on-ml-tutorials/blob/master/tutorial_1/gharchive.ipynb\" target=\"_parent\"><img src=\"https://colab.research.google.com/assets/colab-badge.svg\" alt=\"Open In Colab\"/></a>"
      ]
    },
    {
      "cell_type": "markdown",
      "metadata": {
        "id": "jSL0E5BwHOBR",
        "colab_type": "text"
      },
      "source": [
        "# GH Archive examples"
      ]
    },
    {
      "cell_type": "markdown",
      "metadata": {
        "id": "gaSFKg7UHcd1",
        "colab_type": "text"
      },
      "source": [
        "GH Archive is a project to record the public GitHub timeline, archive it, and make it easily accessible for further analysis. It provides the recording of GitHub events API aggregated into hourly archives and also stored in Google BigQuery."
      ]
    },
    {
      "cell_type": "markdown",
      "metadata": {
        "id": "nsLC6jYfIISF",
        "colab_type": "text"
      },
      "source": [
        "## Import packages"
      ]
    },
    {
      "cell_type": "code",
      "metadata": {
        "id": "bY7kk8BnHF7r",
        "colab_type": "code",
        "colab": {}
      },
      "source": [
        "import json\n",
        "import gzip\n",
        "import pandas as pd\n",
        "from datetime import datetime\n",
        "import os"
      ],
      "execution_count": 0,
      "outputs": []
    },
    {
      "cell_type": "markdown",
      "metadata": {
        "id": "uOfq642XIdh_",
        "colab_type": "text"
      },
      "source": [
        "## Get archives"
      ]
    },
    {
      "cell_type": "markdown",
      "metadata": {
        "id": "ZFmSwrjKab_x",
        "colab_type": "text"
      },
      "source": [
        "To download all archives of 2020-04-20, we can simply use the `wget`command:"
      ]
    },
    {
      "cell_type": "code",
      "metadata": {
        "id": "c5rPCY4bIfvZ",
        "colab_type": "code",
        "colab": {
          "base_uri": "https://localhost:8080/",
          "height": 1000
        },
        "outputId": "910de0ca-bd00-4d68-b2d9-4bc6d580a961"
      },
      "source": [
        "!wget https://data.gharchive.org/2020-04-20-{0..23}.json.gz"
      ],
      "execution_count": 2,
      "outputs": [
        {
          "output_type": "stream",
          "text": [
            "--2020-04-29 15:01:18--  https://data.gharchive.org/2020-04-20-0.json.gz\n",
            "Resolving data.gharchive.org (data.gharchive.org)... 104.27.165.156, 104.27.164.156, 2606:4700:3031::681b:a59c, ...\n",
            "Connecting to data.gharchive.org (data.gharchive.org)|104.27.165.156|:443... connected.\n",
            "HTTP request sent, awaiting response... 200 OK\n",
            "Length: 31934128 (30M) [application/gzip]\n",
            "Saving to: ‘2020-04-20-0.json.gz’\n",
            "\n",
            "\r2020-04-20-0.json.g   0%[                    ]       0  --.-KB/s               \r2020-04-20-0.json.g  13%[=>                  ]   4.01M  12.9MB/s               \r2020-04-20-0.json.g  78%[==============>     ]  24.01M  33.9MB/s               \r2020-04-20-0.json.g 100%[===================>]  30.45M  41.2MB/s    in 0.7s    \n",
            "\n",
            "2020-04-29 15:01:19 (41.2 MB/s) - ‘2020-04-20-0.json.gz’ saved [31934128/31934128]\n",
            "\n",
            "--2020-04-29 15:01:19--  https://data.gharchive.org/2020-04-20-1.json.gz\n",
            "Reusing existing connection to data.gharchive.org:443.\n",
            "HTTP request sent, awaiting response... 200 OK\n",
            "Length: 35050565 (33M) [application/gzip]\n",
            "Saving to: ‘2020-04-20-1.json.gz’\n",
            "\n",
            "2020-04-20-1.json.g 100%[===================>]  33.43M  37.4MB/s    in 0.9s    \n",
            "\n",
            "2020-04-29 15:01:20 (37.4 MB/s) - ‘2020-04-20-1.json.gz’ saved [35050565/35050565]\n",
            "\n",
            "--2020-04-29 15:01:20--  https://data.gharchive.org/2020-04-20-2.json.gz\n",
            "Reusing existing connection to data.gharchive.org:443.\n",
            "HTTP request sent, awaiting response... 200 OK\n",
            "Length: 37650487 (36M) [application/gzip]\n",
            "Saving to: ‘2020-04-20-2.json.gz’\n",
            "\n",
            "2020-04-20-2.json.g 100%[===================>]  35.91M  42.3MB/s    in 0.8s    \n",
            "\n",
            "2020-04-29 15:01:22 (42.3 MB/s) - ‘2020-04-20-2.json.gz’ saved [37650487/37650487]\n",
            "\n",
            "--2020-04-29 15:01:22--  https://data.gharchive.org/2020-04-20-3.json.gz\n",
            "Reusing existing connection to data.gharchive.org:443.\n",
            "HTTP request sent, awaiting response... 200 OK\n",
            "Length: 37640151 (36M) [application/gzip]\n",
            "Saving to: ‘2020-04-20-3.json.gz’\n",
            "\n",
            "2020-04-20-3.json.g 100%[===================>]  35.90M  40.7MB/s    in 0.9s    \n",
            "\n",
            "2020-04-29 15:01:23 (40.7 MB/s) - ‘2020-04-20-3.json.gz’ saved [37640151/37640151]\n",
            "\n",
            "--2020-04-29 15:01:23--  https://data.gharchive.org/2020-04-20-4.json.gz\n",
            "Reusing existing connection to data.gharchive.org:443.\n",
            "HTTP request sent, awaiting response... 200 OK\n",
            "Length: 40320604 (38M) [application/gzip]\n",
            "Saving to: ‘2020-04-20-4.json.gz’\n",
            "\n",
            "2020-04-20-4.json.g 100%[===================>]  38.45M  43.2MB/s    in 0.9s    \n",
            "\n",
            "2020-04-29 15:01:24 (43.2 MB/s) - ‘2020-04-20-4.json.gz’ saved [40320604/40320604]\n",
            "\n",
            "--2020-04-29 15:01:24--  https://data.gharchive.org/2020-04-20-5.json.gz\n",
            "Reusing existing connection to data.gharchive.org:443.\n",
            "HTTP request sent, awaiting response... 200 OK\n",
            "Length: 46624165 (44M) [application/gzip]\n",
            "Saving to: ‘2020-04-20-5.json.gz’\n",
            "\n",
            "2020-04-20-5.json.g 100%[===================>]  44.46M  46.3MB/s    in 1.0s    \n",
            "\n",
            "2020-04-29 15:01:26 (46.3 MB/s) - ‘2020-04-20-5.json.gz’ saved [46624165/46624165]\n",
            "\n",
            "--2020-04-29 15:01:26--  https://data.gharchive.org/2020-04-20-6.json.gz\n",
            "Reusing existing connection to data.gharchive.org:443.\n",
            "HTTP request sent, awaiting response... 200 OK\n",
            "Length: 54860358 (52M) [application/gzip]\n",
            "Saving to: ‘2020-04-20-6.json.gz’\n",
            "\n",
            "2020-04-20-6.json.g 100%[===================>]  52.32M  53.5MB/s    in 1.0s    \n",
            "\n",
            "2020-04-29 15:01:27 (53.5 MB/s) - ‘2020-04-20-6.json.gz’ saved [54860358/54860358]\n",
            "\n",
            "--2020-04-29 15:01:27--  https://data.gharchive.org/2020-04-20-7.json.gz\n",
            "Reusing existing connection to data.gharchive.org:443.\n",
            "HTTP request sent, awaiting response... 200 OK\n",
            "Length: 60793073 (58M) [application/gzip]\n",
            "Saving to: ‘2020-04-20-7.json.gz’\n",
            "\n",
            "2020-04-20-7.json.g 100%[===================>]  57.98M  35.8MB/s    in 1.6s    \n",
            "\n",
            "2020-04-29 15:01:30 (35.8 MB/s) - ‘2020-04-20-7.json.gz’ saved [60793073/60793073]\n",
            "\n",
            "--2020-04-29 15:01:30--  https://data.gharchive.org/2020-04-20-8.json.gz\n",
            "Reusing existing connection to data.gharchive.org:443.\n",
            "HTTP request sent, awaiting response... 200 OK\n",
            "Length: 67349770 (64M) [application/gzip]\n",
            "Saving to: ‘2020-04-20-8.json.gz’\n",
            "\n",
            "2020-04-20-8.json.g 100%[===================>]  64.23M  32.1MB/s    in 2.0s    \n",
            "\n",
            "2020-04-29 15:01:32 (32.1 MB/s) - ‘2020-04-20-8.json.gz’ saved [67349770/67349770]\n",
            "\n",
            "--2020-04-29 15:01:32--  https://data.gharchive.org/2020-04-20-9.json.gz\n",
            "Reusing existing connection to data.gharchive.org:443.\n",
            "HTTP request sent, awaiting response... 200 OK\n",
            "Length: 69735603 (67M) [application/gzip]\n",
            "Saving to: ‘2020-04-20-9.json.gz’\n",
            "\n",
            "2020-04-20-9.json.g 100%[===================>]  66.50M  38.7MB/s    in 1.7s    \n",
            "\n",
            "2020-04-29 15:01:34 (38.7 MB/s) - ‘2020-04-20-9.json.gz’ saved [69735603/69735603]\n",
            "\n",
            "--2020-04-29 15:01:34--  https://data.gharchive.org/2020-04-20-10.json.gz\n",
            "Reusing existing connection to data.gharchive.org:443.\n",
            "HTTP request sent, awaiting response... 200 OK\n",
            "Length: 67525873 (64M) [application/gzip]\n",
            "Saving to: ‘2020-04-20-10.json.gz’\n",
            "\n",
            "2020-04-20-10.json. 100%[===================>]  64.40M  36.0MB/s    in 1.8s    \n",
            "\n",
            "2020-04-29 15:01:37 (36.0 MB/s) - ‘2020-04-20-10.json.gz’ saved [67525873/67525873]\n",
            "\n",
            "--2020-04-29 15:01:37--  https://data.gharchive.org/2020-04-20-11.json.gz\n",
            "Reusing existing connection to data.gharchive.org:443.\n",
            "HTTP request sent, awaiting response... 200 OK\n",
            "Length: 64895073 (62M) [application/gzip]\n",
            "Saving to: ‘2020-04-20-11.json.gz’\n",
            "\n",
            "2020-04-20-11.json. 100%[===================>]  61.89M  43.7MB/s    in 1.4s    \n",
            "\n",
            "2020-04-29 15:01:39 (43.7 MB/s) - ‘2020-04-20-11.json.gz’ saved [64895073/64895073]\n",
            "\n",
            "--2020-04-29 15:01:39--  https://data.gharchive.org/2020-04-20-12.json.gz\n",
            "Reusing existing connection to data.gharchive.org:443.\n",
            "HTTP request sent, awaiting response... 200 OK\n",
            "Length: 64349024 (61M) [application/gzip]\n",
            "Saving to: ‘2020-04-20-12.json.gz’\n",
            "\n",
            "2020-04-20-12.json. 100%[===================>]  61.37M  53.2MB/s    in 1.2s    \n",
            "\n",
            "2020-04-29 15:01:40 (53.2 MB/s) - ‘2020-04-20-12.json.gz’ saved [64349024/64349024]\n",
            "\n",
            "--2020-04-29 15:01:40--  https://data.gharchive.org/2020-04-20-13.json.gz\n",
            "Reusing existing connection to data.gharchive.org:443.\n",
            "HTTP request sent, awaiting response... 200 OK\n",
            "Length: 76713448 (73M) [application/gzip]\n",
            "Saving to: ‘2020-04-20-13.json.gz’\n",
            "\n",
            "2020-04-20-13.json. 100%[===================>]  73.16M  44.5MB/s    in 1.6s    \n",
            "\n",
            "2020-04-29 15:01:43 (44.5 MB/s) - ‘2020-04-20-13.json.gz’ saved [76713448/76713448]\n",
            "\n",
            "--2020-04-29 15:01:43--  https://data.gharchive.org/2020-04-20-14.json.gz\n",
            "Reusing existing connection to data.gharchive.org:443.\n",
            "HTTP request sent, awaiting response... 200 OK\n",
            "Length: 76580069 (73M) [application/gzip]\n",
            "Saving to: ‘2020-04-20-14.json.gz’\n",
            "\n",
            "2020-04-20-14.json. 100%[===================>]  73.03M  32.9MB/s    in 2.2s    \n",
            "\n",
            "2020-04-29 15:01:45 (32.9 MB/s) - ‘2020-04-20-14.json.gz’ saved [76580069/76580069]\n",
            "\n",
            "--2020-04-29 15:01:45--  https://data.gharchive.org/2020-04-20-15.json.gz\n",
            "Reusing existing connection to data.gharchive.org:443.\n",
            "HTTP request sent, awaiting response... 200 OK\n",
            "Length: 77549546 (74M) [application/gzip]\n",
            "Saving to: ‘2020-04-20-15.json.gz’\n",
            "\n",
            "2020-04-20-15.json. 100%[===================>]  73.96M  25.9MB/s    in 2.9s    \n",
            "\n",
            "2020-04-29 15:01:49 (25.9 MB/s) - ‘2020-04-20-15.json.gz’ saved [77549546/77549546]\n",
            "\n",
            "--2020-04-29 15:01:49--  https://data.gharchive.org/2020-04-20-16.json.gz\n",
            "Reusing existing connection to data.gharchive.org:443.\n",
            "HTTP request sent, awaiting response... 200 OK\n",
            "Length: 77245656 (74M) [application/gzip]\n",
            "Saving to: ‘2020-04-20-16.json.gz’\n",
            "\n",
            "2020-04-20-16.json. 100%[===================>]  73.67M  22.7MB/s    in 3.2s    \n",
            "\n",
            "2020-04-29 15:01:53 (22.7 MB/s) - ‘2020-04-20-16.json.gz’ saved [77245656/77245656]\n",
            "\n",
            "--2020-04-29 15:01:53--  https://data.gharchive.org/2020-04-20-17.json.gz\n",
            "Reusing existing connection to data.gharchive.org:443.\n",
            "HTTP request sent, awaiting response... 200 OK\n",
            "Length: 75122386 (72M) [application/gzip]\n",
            "Saving to: ‘2020-04-20-17.json.gz’\n",
            "\n",
            "2020-04-20-17.json. 100%[===================>]  71.64M  47.3MB/s    in 1.5s    \n",
            "\n",
            "2020-04-29 15:01:55 (47.3 MB/s) - ‘2020-04-20-17.json.gz’ saved [75122386/75122386]\n",
            "\n",
            "--2020-04-29 15:01:55--  https://data.gharchive.org/2020-04-20-18.json.gz\n",
            "Reusing existing connection to data.gharchive.org:443.\n",
            "HTTP request sent, awaiting response... 200 OK\n",
            "Length: 69415380 (66M) [application/gzip]\n",
            "Saving to: ‘2020-04-20-18.json.gz’\n",
            "\n",
            "2020-04-20-18.json. 100%[===================>]  66.20M  28.3MB/s    in 2.3s    \n",
            "\n",
            "2020-04-29 15:01:58 (28.3 MB/s) - ‘2020-04-20-18.json.gz’ saved [69415380/69415380]\n",
            "\n",
            "--2020-04-29 15:01:58--  https://data.gharchive.org/2020-04-20-19.json.gz\n",
            "Reusing existing connection to data.gharchive.org:443.\n",
            "HTTP request sent, awaiting response... 200 OK\n",
            "Length: 69795255 (67M) [application/gzip]\n",
            "Saving to: ‘2020-04-20-19.json.gz’\n",
            "\n",
            "2020-04-20-19.json. 100%[===================>]  66.56M  37.3MB/s    in 1.8s    \n",
            "\n",
            "2020-04-29 15:02:00 (37.3 MB/s) - ‘2020-04-20-19.json.gz’ saved [69795255/69795255]\n",
            "\n",
            "--2020-04-29 15:02:00--  https://data.gharchive.org/2020-04-20-20.json.gz\n",
            "Reusing existing connection to data.gharchive.org:443.\n",
            "HTTP request sent, awaiting response... 200 OK\n",
            "Length: 67416817 (64M) [application/gzip]\n",
            "Saving to: ‘2020-04-20-20.json.gz’\n",
            "\n",
            "2020-04-20-20.json. 100%[===================>]  64.29M  40.8MB/s    in 1.6s    \n",
            "\n",
            "2020-04-29 15:02:02 (40.8 MB/s) - ‘2020-04-20-20.json.gz’ saved [67416817/67416817]\n",
            "\n",
            "--2020-04-29 15:02:02--  https://data.gharchive.org/2020-04-20-21.json.gz\n",
            "Reusing existing connection to data.gharchive.org:443.\n",
            "HTTP request sent, awaiting response... 200 OK\n",
            "Length: 61936568 (59M) [application/gzip]\n",
            "Saving to: ‘2020-04-20-21.json.gz’\n",
            "\n",
            "2020-04-20-21.json. 100%[===================>]  59.07M  39.6MB/s    in 1.5s    \n",
            "\n",
            "2020-04-29 15:02:04 (39.6 MB/s) - ‘2020-04-20-21.json.gz’ saved [61936568/61936568]\n",
            "\n",
            "--2020-04-29 15:02:04--  https://data.gharchive.org/2020-04-20-22.json.gz\n",
            "Reusing existing connection to data.gharchive.org:443.\n",
            "HTTP request sent, awaiting response... 200 OK\n",
            "Length: 50331310 (48M) [application/gzip]\n",
            "Saving to: ‘2020-04-20-22.json.gz’\n",
            "\n",
            "2020-04-20-22.json. 100%[===================>]  48.00M  27.0MB/s    in 1.8s    \n",
            "\n",
            "2020-04-29 15:02:06 (27.0 MB/s) - ‘2020-04-20-22.json.gz’ saved [50331310/50331310]\n",
            "\n",
            "--2020-04-29 15:02:06--  https://data.gharchive.org/2020-04-20-23.json.gz\n",
            "Reusing existing connection to data.gharchive.org:443.\n",
            "HTTP request sent, awaiting response... 200 OK\n",
            "Length: 43549040 (42M) [application/gzip]\n",
            "Saving to: ‘2020-04-20-23.json.gz’\n",
            "\n",
            "2020-04-20-23.json. 100%[===================>]  41.53M  43.3MB/s    in 1.0s    \n",
            "\n",
            "2020-04-29 15:02:08 (43.3 MB/s) - ‘2020-04-20-23.json.gz’ saved [43549040/43549040]\n",
            "\n",
            "FINISHED --2020-04-29 15:02:08--\n",
            "Total wall clock time: 50s\n",
            "Downloaded: 24 files, 1.3G in 37s (36.4 MB/s)\n"
          ],
          "name": "stdout"
        }
      ]
    },
    {
      "cell_type": "markdown",
      "metadata": {
        "id": "KRESbAc4aTma",
        "colab_type": "text"
      },
      "source": [
        "Then we sort archives by date:"
      ]
    },
    {
      "cell_type": "code",
      "metadata": {
        "id": "5renqy1-Jndy",
        "colab_type": "code",
        "colab": {
          "base_uri": "https://localhost:8080/",
          "height": 425
        },
        "outputId": "89e59e72-b2ee-415b-8137-b9e031b65b05"
      },
      "source": [
        "def extract_date(filename):\n",
        "    return datetime.strptime(filename.split('.')[0], '%Y-%m-%d-%H')\n",
        "\n",
        "data = [f for f in os.listdir() if f.endswith(\".json.gz\")]\n",
        "data_sorted = sorted(data, key=lambda f: extract_date(f))\n",
        "\n",
        "data_sorted"
      ],
      "execution_count": 3,
      "outputs": [
        {
          "output_type": "execute_result",
          "data": {
            "text/plain": [
              "['2020-04-20-0.json.gz',\n",
              " '2020-04-20-1.json.gz',\n",
              " '2020-04-20-2.json.gz',\n",
              " '2020-04-20-3.json.gz',\n",
              " '2020-04-20-4.json.gz',\n",
              " '2020-04-20-5.json.gz',\n",
              " '2020-04-20-6.json.gz',\n",
              " '2020-04-20-7.json.gz',\n",
              " '2020-04-20-8.json.gz',\n",
              " '2020-04-20-9.json.gz',\n",
              " '2020-04-20-10.json.gz',\n",
              " '2020-04-20-11.json.gz',\n",
              " '2020-04-20-12.json.gz',\n",
              " '2020-04-20-13.json.gz',\n",
              " '2020-04-20-14.json.gz',\n",
              " '2020-04-20-15.json.gz',\n",
              " '2020-04-20-16.json.gz',\n",
              " '2020-04-20-17.json.gz',\n",
              " '2020-04-20-18.json.gz',\n",
              " '2020-04-20-19.json.gz',\n",
              " '2020-04-20-20.json.gz',\n",
              " '2020-04-20-21.json.gz',\n",
              " '2020-04-20-22.json.gz',\n",
              " '2020-04-20-23.json.gz']"
            ]
          },
          "metadata": {
            "tags": []
          },
          "execution_count": 3
        }
      ]
    },
    {
      "cell_type": "markdown",
      "metadata": {
        "id": "kRGdieM5bEzu",
        "colab_type": "text"
      },
      "source": [
        "## List GitHub events from an archive"
      ]
    },
    {
      "cell_type": "code",
      "metadata": {
        "id": "YvPgFrKaNbLh",
        "colab_type": "code",
        "colab": {}
      },
      "source": [
        "data_archive = data_sorted[0]"
      ],
      "execution_count": 0,
      "outputs": []
    },
    {
      "cell_type": "code",
      "metadata": {
        "id": "oTrEuXrrHF7u",
        "colab_type": "code",
        "colab": {}
      },
      "source": [
        "types = list()\n",
        "with gzip.open(data_archive) as f:\n",
        "    for i, line in enumerate(f):\n",
        "        json_data = json.loads(line)\n",
        "        types.append(json_data['type'])"
      ],
      "execution_count": 0,
      "outputs": []
    },
    {
      "cell_type": "code",
      "metadata": {
        "scrolled": true,
        "id": "pwaTWpi2HF7x",
        "colab_type": "code",
        "colab": {
          "base_uri": "https://localhost:8080/",
          "height": 289
        },
        "outputId": "ed60f463-4d77-4ae3-9c37-3921c8f48c04"
      },
      "source": [
        "pd.DataFrame({\"types\": types}).groupby(\"types\").size().sort_values(ascending=False)"
      ],
      "execution_count": 6,
      "outputs": [
        {
          "output_type": "execute_result",
          "data": {
            "text/plain": [
              "types\n",
              "PushEvent                        42278\n",
              "CreateEvent                       9636\n",
              "PullRequestEvent                  5696\n",
              "WatchEvent                        5041\n",
              "IssueCommentEvent                 3556\n",
              "DeleteEvent                       2204\n",
              "IssuesEvent                       1988\n",
              "ForkEvent                         1667\n",
              "PullRequestReviewCommentEvent      794\n",
              "ReleaseEvent                       313\n",
              "GollumEvent                        261\n",
              "PublicEvent                        260\n",
              "MemberEvent                        206\n",
              "CommitCommentEvent                 187\n",
              "dtype: int64"
            ]
          },
          "metadata": {
            "tags": []
          },
          "execution_count": 6
        }
      ]
    },
    {
      "cell_type": "markdown",
      "metadata": {
        "id": "JJU7DztEbQbd",
        "colab_type": "text"
      },
      "source": [
        "## Working with PushEvent"
      ]
    },
    {
      "cell_type": "markdown",
      "metadata": {
        "id": "5Y59ede_bZbS",
        "colab_type": "text"
      },
      "source": [
        "Let's print the structure of a PushEvent JSON"
      ]
    },
    {
      "cell_type": "code",
      "metadata": {
        "id": "dXaetMpfHF71",
        "colab_type": "code",
        "colab": {}
      },
      "source": [
        "push_events = list()\n",
        "with gzip.open(data_archive) as archive:\n",
        "    for line in archive:\n",
        "        json_data = json.loads(line)\n",
        "        if (json_data['type'] == 'PushEvent'):\n",
        "            push_events.append(json_data)   "
      ],
      "execution_count": 0,
      "outputs": []
    },
    {
      "cell_type": "code",
      "metadata": {
        "id": "agGxcwvTHF77",
        "colab_type": "code",
        "colab": {
          "base_uri": "https://localhost:8080/",
          "height": 680
        },
        "outputId": "cc7d6c80-6f90-48d1-deb3-25562118df84"
      },
      "source": [
        "print(json.dumps(push_events[0], indent=4))"
      ],
      "execution_count": 8,
      "outputs": [
        {
          "output_type": "stream",
          "text": [
            "{\n",
            "    \"id\": \"12094461500\",\n",
            "    \"type\": \"PushEvent\",\n",
            "    \"actor\": {\n",
            "        \"id\": 43556190,\n",
            "        \"login\": \"paulpatault\",\n",
            "        \"display_login\": \"paulpatault\",\n",
            "        \"gravatar_id\": \"\",\n",
            "        \"url\": \"https://api.github.com/users/paulpatault\",\n",
            "        \"avatar_url\": \"https://avatars.githubusercontent.com/u/43556190?\"\n",
            "    },\n",
            "    \"repo\": {\n",
            "        \"id\": 251396393,\n",
            "        \"name\": \"paulpatault/ElectronApp\",\n",
            "        \"url\": \"https://api.github.com/repos/paulpatault/ElectronApp\"\n",
            "    },\n",
            "    \"payload\": {\n",
            "        \"push_id\": 4942456594,\n",
            "        \"size\": 1,\n",
            "        \"distinct_size\": 1,\n",
            "        \"ref\": \"refs/heads/master\",\n",
            "        \"head\": \"e6ed0fc4ca94b2c70967dbc4be04c4b77c465a3e\",\n",
            "        \"before\": \"3582055733a4368c34d3a986936e8d1ad767a9ac\",\n",
            "        \"commits\": [\n",
            "            {\n",
            "                \"sha\": \"e6ed0fc4ca94b2c70967dbc4be04c4b77c465a3e\",\n",
            "                \"author\": {\n",
            "                    \"name\": \"paul\",\n",
            "                    \"email\": \"3412ff613491d9ef3b65c4a94ea42fb53750a40c@gmail.com\"\n",
            "                },\n",
            "                \"message\": \"Update main.js\",\n",
            "                \"distinct\": true,\n",
            "                \"url\": \"https://api.github.com/repos/paulpatault/ElectronApp/commits/e6ed0fc4ca94b2c70967dbc4be04c4b77c465a3e\"\n",
            "            }\n",
            "        ]\n",
            "    },\n",
            "    \"public\": true,\n",
            "    \"created_at\": \"2020-04-20T00:00:00Z\"\n",
            "}\n"
          ],
          "name": "stdout"
        }
      ]
    },
    {
      "cell_type": "markdown",
      "metadata": {
        "id": "eBUj7KRybyvB",
        "colab_type": "text"
      },
      "source": [
        "## Mining of PushEvent commits"
      ]
    },
    {
      "cell_type": "markdown",
      "metadata": {
        "id": "wUYovYOvcIGV",
        "colab_type": "text"
      },
      "source": [
        "Ler's extract a list of rows to build a pandas `DataFrame` later"
      ]
    },
    {
      "cell_type": "code",
      "metadata": {
        "id": "39TtvDqQHF7-",
        "colab_type": "code",
        "colab": {}
      },
      "source": [
        "rows = list()\n",
        "for push in push_events:\n",
        "  repo_name = push['repo']['name']\n",
        "  created_at = push['created_at'] \n",
        "  for commit in push['payload']['commits']:\n",
        "    if commit['distinct']:\n",
        "      rows.append({\n",
        "          'id': commit['sha'],\n",
        "          'repository': repo_name,\n",
        "          'author': commit['author']['name'],\n",
        "          'message': commit['message'],\n",
        "          'url': commit['url'],\n",
        "          'created_at': created_at\n",
        "      })"
      ],
      "execution_count": 0,
      "outputs": []
    },
    {
      "cell_type": "code",
      "metadata": {
        "id": "FWOxkBf_HF8C",
        "colab_type": "code",
        "colab": {
          "base_uri": "https://localhost:8080/",
          "height": 289
        },
        "outputId": "92965e88-9110-40a4-cfcf-9f7925b41ee7"
      },
      "source": [
        "commits_data = pd.DataFrame(rows)\n",
        "\n",
        "commits_data.head()"
      ],
      "execution_count": 10,
      "outputs": [
        {
          "output_type": "execute_result",
          "data": {
            "text/html": [
              "<div>\n",
              "<style scoped>\n",
              "    .dataframe tbody tr th:only-of-type {\n",
              "        vertical-align: middle;\n",
              "    }\n",
              "\n",
              "    .dataframe tbody tr th {\n",
              "        vertical-align: top;\n",
              "    }\n",
              "\n",
              "    .dataframe thead th {\n",
              "        text-align: right;\n",
              "    }\n",
              "</style>\n",
              "<table border=\"1\" class=\"dataframe\">\n",
              "  <thead>\n",
              "    <tr style=\"text-align: right;\">\n",
              "      <th></th>\n",
              "      <th>id</th>\n",
              "      <th>repository</th>\n",
              "      <th>author</th>\n",
              "      <th>message</th>\n",
              "      <th>url</th>\n",
              "      <th>created_at</th>\n",
              "    </tr>\n",
              "  </thead>\n",
              "  <tbody>\n",
              "    <tr>\n",
              "      <th>0</th>\n",
              "      <td>e6ed0fc4ca94b2c70967dbc4be04c4b77c465a3e</td>\n",
              "      <td>paulpatault/ElectronApp</td>\n",
              "      <td>paul</td>\n",
              "      <td>Update main.js</td>\n",
              "      <td>https://api.github.com/repos/paulpatault/Elect...</td>\n",
              "      <td>2020-04-20T00:00:00Z</td>\n",
              "    </tr>\n",
              "    <tr>\n",
              "      <th>1</th>\n",
              "      <td>99b9cfc11ac6dd01327f9ceb9b36d6d8a0b83843</td>\n",
              "      <td>SusumuKanazawa/sample</td>\n",
              "      <td>SusumuKanazawa</td>\n",
              "      <td>Merge pull request #9 from SusumuKanazawa/deve...</td>\n",
              "      <td>https://api.github.com/repos/SusumuKanazawa/sa...</td>\n",
              "      <td>2020-04-20T00:00:00Z</td>\n",
              "    </tr>\n",
              "    <tr>\n",
              "      <th>2</th>\n",
              "      <td>60a3dffc4c6e6c485155c83d9e9cae4ccd6512c7</td>\n",
              "      <td>SuperBrainBro/LUDUM-DARE-46</td>\n",
              "      <td>NoohAlavi</td>\n",
              "      <td>a</td>\n",
              "      <td>https://api.github.com/repos/SuperBrainBro/LUD...</td>\n",
              "      <td>2020-04-20T00:00:00Z</td>\n",
              "    </tr>\n",
              "    <tr>\n",
              "      <th>3</th>\n",
              "      <td>a17f54b66141b82db68f1283860d5f7493f15af8</td>\n",
              "      <td>hurl2526/what-i-learned-week-13</td>\n",
              "      <td>Patrick</td>\n",
              "      <td>what-i-learned-13</td>\n",
              "      <td>https://api.github.com/repos/hurl2526/what-i-l...</td>\n",
              "      <td>2020-04-20T00:00:00Z</td>\n",
              "    </tr>\n",
              "    <tr>\n",
              "      <th>4</th>\n",
              "      <td>ed1db100a939e12f31c8c0710ce0882e9e63cea9</td>\n",
              "      <td>OpenSAGE/OpenSAGE.BlenderPlugin</td>\n",
              "      <td>Michael Schnabel</td>\n",
              "      <td>material import rework wip</td>\n",
              "      <td>https://api.github.com/repos/OpenSAGE/OpenSAGE...</td>\n",
              "      <td>2020-04-20T00:00:00Z</td>\n",
              "    </tr>\n",
              "  </tbody>\n",
              "</table>\n",
              "</div>"
            ],
            "text/plain": [
              "                                         id  ...            created_at\n",
              "0  e6ed0fc4ca94b2c70967dbc4be04c4b77c465a3e  ...  2020-04-20T00:00:00Z\n",
              "1  99b9cfc11ac6dd01327f9ceb9b36d6d8a0b83843  ...  2020-04-20T00:00:00Z\n",
              "2  60a3dffc4c6e6c485155c83d9e9cae4ccd6512c7  ...  2020-04-20T00:00:00Z\n",
              "3  a17f54b66141b82db68f1283860d5f7493f15af8  ...  2020-04-20T00:00:00Z\n",
              "4  ed1db100a939e12f31c8c0710ce0882e9e63cea9  ...  2020-04-20T00:00:00Z\n",
              "\n",
              "[5 rows x 6 columns]"
            ]
          },
          "metadata": {
            "tags": []
          },
          "execution_count": 10
        }
      ]
    },
    {
      "cell_type": "markdown",
      "metadata": {
        "id": "nVK8SvYjcpLu",
        "colab_type": "text"
      },
      "source": [
        "To count the commits for each repository:"
      ]
    },
    {
      "cell_type": "code",
      "metadata": {
        "id": "I80ZLXaiHF8G",
        "colab_type": "code",
        "colab": {
          "base_uri": "https://localhost:8080/",
          "height": 238
        },
        "outputId": "857829c2-2d04-4abd-95b5-d9ad1bfd11c5"
      },
      "source": [
        "commits_data.groupby('repository').size().sort_values(ascending=False)"
      ],
      "execution_count": 11,
      "outputs": [
        {
          "output_type": "execute_result",
          "data": {
            "text/plain": [
              "repository\n",
              "shangwoa/ab4860                                    398\n",
              "y232/ntdtv                                         143\n",
              "ShemaxCodes/oo-tic-tac-toe-onl01-seng-pt-032320    142\n",
              "NoeCampos22/App_2LeyNewton                         140\n",
              "akuppan1/rules-for-derivatives-lab-ds-apply-000    124\n",
              "                                                  ... \n",
              "irudym/iloilo-core                                   1\n",
              "irudym/iloilo-client                                 1\n",
              "irov/Mengine                                         1\n",
              "ironfroggy/SeedMagic                                 1\n",
              "000SergeyMayer000/tracker                            1\n",
              "Length: 19106, dtype: int64"
            ]
          },
          "metadata": {
            "tags": []
          },
          "execution_count": 11
        }
      ]
    },
    {
      "cell_type": "markdown",
      "metadata": {
        "id": "FZbjLyz4Ze8B",
        "colab_type": "text"
      },
      "source": [
        "## Working with duplicates\n",
        "What happens if we call `groupby()` on commit id?"
      ]
    },
    {
      "cell_type": "code",
      "metadata": {
        "id": "67bO7CsgHF8E",
        "colab_type": "code",
        "colab": {
          "base_uri": "https://localhost:8080/",
          "height": 238
        },
        "outputId": "2ddfa536-b75b-4895-8fad-ad1561fc04ed"
      },
      "source": [
        "commits_data.groupby('id').size().sort_values(ascending=False)"
      ],
      "execution_count": 12,
      "outputs": [
        {
          "output_type": "execute_result",
          "data": {
            "text/plain": [
              "id\n",
              "1f23447aaa7e01dc92d41c76c2db70ca37e767e0    18\n",
              "26fe874a38e92ea0433e1ba552a92229a483c610    11\n",
              "15fc953f75766541bf2f1ed95945da2961a47ca6    11\n",
              "6d7fb9f46ac61761c3d1b8c9a320090980bae2cd    10\n",
              "0abcf2d1769eaea3af4e8821bd2c865351687715     8\n",
              "                                            ..\n",
              "a9a138ac10a55f508bc14fd164fba185fc551f6e     1\n",
              "a9a131b0bb3b888393e621fb43f73d17f0055988     1\n",
              "a99fa6f5dd8ae63f89a292bdb0f8c9df253044a8     1\n",
              "a99f96753e7db59a4f3d6f73a125cb09936699f1     1\n",
              "00009ce5eec4e505baa18e5bcbfe3add18dd4f4d     1\n",
              "Length: 49608, dtype: int64"
            ]
          },
          "metadata": {
            "tags": []
          },
          "execution_count": 12
        }
      ]
    },
    {
      "cell_type": "markdown",
      "metadata": {
        "id": "b46hdPwZZxih",
        "colab_type": "text"
      },
      "source": [
        "To count duplicates:"
      ]
    },
    {
      "cell_type": "code",
      "metadata": {
        "id": "8sYw4ittZO9m",
        "colab_type": "code",
        "colab": {
          "base_uri": "https://localhost:8080/",
          "height": 34
        },
        "outputId": "7e008a08-bbe2-4a33-b1fc-6706eba2dbd9"
      },
      "source": [
        "commits_data.duplicated(subset='id').sum()"
      ],
      "execution_count": 13,
      "outputs": [
        {
          "output_type": "execute_result",
          "data": {
            "text/plain": [
              "1114"
            ]
          },
          "metadata": {
            "tags": []
          },
          "execution_count": 13
        }
      ]
    },
    {
      "cell_type": "markdown",
      "metadata": {
        "id": "sLmOlCNkZ1Yg",
        "colab_type": "text"
      },
      "source": [
        "To delete lines only if commit id is duplicated:"
      ]
    },
    {
      "cell_type": "code",
      "metadata": {
        "id": "24rtAiiFRxcK",
        "colab_type": "code",
        "colab": {
          "base_uri": "https://localhost:8080/",
          "height": 34
        },
        "outputId": "d08868c9-9ae3-46f8-8083-5cec19954066"
      },
      "source": [
        "commits_data = commits_data.drop_duplicates(subset='id')\n",
        "\n",
        "commits_data.duplicated(subset='id').sum()"
      ],
      "execution_count": 14,
      "outputs": [
        {
          "output_type": "execute_result",
          "data": {
            "text/plain": [
              "0"
            ]
          },
          "metadata": {
            "tags": []
          },
          "execution_count": 14
        }
      ]
    },
    {
      "cell_type": "markdown",
      "metadata": {
        "id": "pefNBu6Hds7z",
        "colab_type": "text"
      },
      "source": [
        "## Resources\n",
        "\n",
        "- GH Archive: [link](https://www.gharchive.org/)\n",
        "- GitHub event types: [link](https://developer.github.com/v3/activity/events/types/)"
      ]
    }
  ]
}